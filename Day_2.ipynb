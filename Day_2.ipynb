{
 "cells": [
  {
   "cell_type": "code",
   "execution_count": 1,
   "id": "87051344-eb87-43c0-bcb8-cd14e81c147b",
   "metadata": {},
   "outputs": [],
   "source": [
    "#Day 2"
   ]
  },
  {
   "cell_type": "code",
   "execution_count": 2,
   "id": "5d26f943-cfb2-4ec1-96c9-1b9f01b7a4e3",
   "metadata": {},
   "outputs": [
    {
     "data": {
      "text/plain": [
       "5"
      ]
     },
     "execution_count": 2,
     "metadata": {},
     "output_type": "execute_result"
    }
   ],
   "source": [
    "len('12345')"
   ]
  },
  {
   "cell_type": "code",
   "execution_count": 3,
   "id": "abff84e1-e0c7-4263-9b73-d5d309341a45",
   "metadata": {},
   "outputs": [
    {
     "name": "stdout",
     "output_type": "stream",
     "text": [
      "<class 'int'>\n",
      "<class 'float'>\n",
      "<class 'str'>\n",
      "<class 'bool'>\n"
     ]
    }
   ],
   "source": [
    "print(type(112))\n",
    "print(type(23.4))\n",
    "print(type('Hello'))\n",
    "print(type(True))"
   ]
  },
  {
   "cell_type": "code",
   "execution_count": 4,
   "id": "97180d76-141a-4582-896a-6fc429a8fcc7",
   "metadata": {},
   "outputs": [
    {
     "name": "stdout",
     "output_type": "stream",
     "text": [
      "1690\n"
     ]
    }
   ],
   "source": [
    "print(int('1234') + int('456'))"
   ]
  },
  {
   "cell_type": "code",
   "execution_count": 5,
   "id": "586629ed-7d0e-4b35-8ea9-46d1eba27410",
   "metadata": {},
   "outputs": [
    {
     "name": "stdin",
     "output_type": "stream",
     "text": [
      "Enter your name Leandro\n"
     ]
    },
    {
     "name": "stdout",
     "output_type": "stream",
     "text": [
      "Number of letter in your name: 7\n"
     ]
    }
   ],
   "source": [
    "print(f'Number of letter in your name: {len(input('Enter your name'))}')"
   ]
  },
  {
   "cell_type": "code",
   "execution_count": 6,
   "id": "a0b73e6f-0f4d-4957-8d94-f037ca9a2988",
   "metadata": {},
   "outputs": [
    {
     "name": "stdout",
     "output_type": "stream",
     "text": [
      "3.0\n"
     ]
    }
   ],
   "source": [
    "print((3 * (3 + 3) / 3) - 3)"
   ]
  },
  {
   "cell_type": "code",
   "execution_count": 7,
   "id": "8bf365e0-c7aa-4fd2-ac4f-f1dda0c21293",
   "metadata": {},
   "outputs": [
    {
     "name": "stdout",
     "output_type": "stream",
     "text": [
      "30.85399449035813\n",
      "30\n",
      "31\n",
      "30.85\n"
     ]
    }
   ],
   "source": [
    "bmi = 84 / 1.65 ** 2\n",
    "print(bmi)\n",
    "print(int(bmi))\n",
    "print(round(bmi))\n",
    "print(round(bmi, 2))"
   ]
  },
  {
   "cell_type": "code",
   "execution_count": 8,
   "id": "065d314c-c885-4109-a556-c2747248f0e4",
   "metadata": {},
   "outputs": [
    {
     "name": "stdout",
     "output_type": "stream",
     "text": [
      "1\n"
     ]
    }
   ],
   "source": [
    "score = 0\n",
    "score += 1\n",
    "print(score)"
   ]
  },
  {
   "cell_type": "code",
   "execution_count": 9,
   "id": "2a6a672d-05ab-4523-9a8a-9f872526e331",
   "metadata": {},
   "outputs": [
    {
     "name": "stdout",
     "output_type": "stream",
     "text": [
      "2.5\n"
     ]
    }
   ],
   "source": [
    "a = int('5')/int(2.7)\n",
    "print(a)"
   ]
  },
  {
   "cell_type": "code",
   "execution_count": 10,
   "id": "7232f568-e9dd-41b5-8bb1-1fa84c2eaeba",
   "metadata": {},
   "outputs": [
    {
     "name": "stdout",
     "output_type": "stream",
     "text": [
      "Welcome to the tip calculator!\n"
     ]
    },
    {
     "name": "stdin",
     "output_type": "stream",
     "text": [
      "What was the total bill? $ 153.45\n",
      "How much tip would you like to give? 10, 12, or 15?  12\n",
      "How many people to split the bill?  5\n"
     ]
    },
    {
     "name": "stdout",
     "output_type": "stream",
     "text": [
      "Each person should pay: $34.37\n"
     ]
    }
   ],
   "source": [
    "# print('Welcome to the tip calculator!')\n",
    "bill = float(input('What was the total bill? $'))\n",
    "tip = int(input('How much tip would you like to give? 10, 12, or 15? '))\n",
    "people = int(input('How many people to split the bill? '))\n",
    "calc = ((tip/100) * bill + bill)/people\n",
    "print(f'Each person should pay: ${calc:.2f}')"
   ]
  },
  {
   "cell_type": "code",
   "execution_count": null,
   "id": "8c07fbb9-f740-449a-a1a8-0c71733fe866",
   "metadata": {},
   "outputs": [],
   "source": []
  }
 ],
 "metadata": {
  "kernelspec": {
   "display_name": "Python 3 (ipykernel)",
   "language": "python",
   "name": "python3"
  },
  "language_info": {
   "codemirror_mode": {
    "name": "ipython",
    "version": 3
   },
   "file_extension": ".py",
   "mimetype": "text/x-python",
   "name": "python",
   "nbconvert_exporter": "python",
   "pygments_lexer": "ipython3",
   "version": "3.12.5"
  }
 },
 "nbformat": 4,
 "nbformat_minor": 5
}
