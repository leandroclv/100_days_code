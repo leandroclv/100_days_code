{
 "cells": [
  {
   "cell_type": "code",
   "execution_count": 1,
   "metadata": {},
   "outputs": [
    {
     "name": "stdout",
     "output_type": "stream",
     "text": [
      "8\n"
     ]
    }
   ],
   "source": [
    "import random\n",
    "\n",
    "random_integer = random.randint(1, 10)\n",
    "print(random_integer)\n"
   ]
  },
  {
   "cell_type": "code",
   "execution_count": 5,
   "metadata": {},
   "outputs": [
    {
     "name": "stdout",
     "output_type": "stream",
     "text": [
      "0.2583234280989056\n"
     ]
    }
   ],
   "source": [
    "random_number_0_to_1 = random.random()\n",
    "print(random_number_0_to_1)"
   ]
  },
  {
   "cell_type": "code",
   "execution_count": 6,
   "metadata": {},
   "outputs": [
    {
     "name": "stdout",
     "output_type": "stream",
     "text": [
      "4.068051458048517\n"
     ]
    }
   ],
   "source": [
    "random_float = random.uniform(1, 10)\n",
    "print(random_float)"
   ]
  },
  {
   "cell_type": "code",
   "execution_count": 11,
   "metadata": {},
   "outputs": [
    {
     "name": "stdout",
     "output_type": "stream",
     "text": [
      "Heads\n"
     ]
    }
   ],
   "source": [
    "random_heads_or_tails = random.randint(0, 1)\n",
    "if random_heads_or_tails == 0:\n",
    "    print('Heads')\n",
    "else:\n",
    "    print('Tails')"
   ]
  },
  {
   "cell_type": "code",
   "execution_count": 10,
   "metadata": {},
   "outputs": [
    {
     "name": "stdout",
     "output_type": "stream",
     "text": [
      "['cherry', 'apple', 'pear']\n",
      "pear\n",
      "apple\n",
      "['cherry', 'grape', 'pear']\n",
      "['cherry', 'grape', 'pear', 'orange']\n",
      "['cherry', 'grape', 'pear', 'orange', 'stronberry', 'tomate']\n"
     ]
    }
   ],
   "source": [
    "#list\n",
    "fruits = ['cherry', 'apple', 'pear']\n",
    "print(fruits)\n",
    "print(fruits[2])\n",
    "print(fruits[-2])\n",
    "fruits[1] = 'grape'\n",
    "print(fruits)\n",
    "fruits.append('orange')\n",
    "print(fruits)\n",
    "fruits.extend(['stronberry', 'tomate'])\n",
    "print(fruits)"
   ]
  },
  {
   "cell_type": "code",
   "execution_count": 11,
   "metadata": {},
   "outputs": [
    {
     "name": "stdout",
     "output_type": "stream",
     "text": [
      "David\n",
      "Bob\n"
     ]
    }
   ],
   "source": [
    "frineds = ['Alice', 'Bob', 'Charlie', 'David','Emanuel']\n",
    "bill = random.choice(frineds) #trabalha com listas\n",
    "print(bill)\n",
    "\n",
    "bill = random.randint(0, len(frineds)-1) #trabalha com números\n",
    "print(frineds[bill])\n"
   ]
  },
  {
   "cell_type": "code",
   "execution_count": 12,
   "metadata": {},
   "outputs": [
    {
     "name": "stdout",
     "output_type": "stream",
     "text": [
      "Kale\n"
     ]
    }
   ],
   "source": [
    "fruits = [\"Strawberries\", \"Nectarines\", \"Apples\", \"Grapes\", \"Peaches\", \"Cherries\", \"Pears\"]\n",
    "vegetables = [\"Spinach\", \"Kale\", \"Tomatoes\", \"Celery\", \"Potatoes\"]\n",
    "dirty_dozen = [fruits, vegetables]\n",
    "print(dirty_dozen[1][1])"
   ]
  },
  {
   "cell_type": "code",
   "execution_count": 16,
   "metadata": {},
   "outputs": [
    {
     "name": "stdout",
     "output_type": "stream",
     "text": [
      "Grapes\n",
      "Kale\n"
     ]
    }
   ],
   "source": [
    "print(dirty_dozen[0] [3])\n",
    "print(dirty_dozen[1] [1])"
   ]
  },
  {
   "cell_type": "code",
   "execution_count": null,
   "metadata": {},
   "outputs": [],
   "source": [
    "# Project Day_4\n"
   ]
  }
 ],
 "metadata": {
  "kernelspec": {
   "display_name": "Python 3",
   "language": "python",
   "name": "python3"
  },
  "language_info": {
   "codemirror_mode": {
    "name": "ipython",
    "version": 3
   },
   "file_extension": ".py",
   "mimetype": "text/x-python",
   "name": "python",
   "nbconvert_exporter": "python",
   "pygments_lexer": "ipython3",
   "version": "3.12.3"
  }
 },
 "nbformat": 4,
 "nbformat_minor": 2
}
