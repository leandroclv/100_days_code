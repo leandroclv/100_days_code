{
 "cells": [
  {
   "cell_type": "code",
   "execution_count": 2,
   "metadata": {},
   "outputs": [
    {
     "name": "stdout",
     "output_type": "stream",
     "text": [
      "1\n"
     ]
    }
   ],
   "source": [
    "import random\n",
    "\n",
    "random_integer = random.randint(1, 10)\n",
    "print(random_integer)\n"
   ]
  },
  {
   "cell_type": "code",
   "execution_count": 5,
   "metadata": {},
   "outputs": [
    {
     "name": "stdout",
     "output_type": "stream",
     "text": [
      "0.2583234280989056\n"
     ]
    }
   ],
   "source": [
    "random_number_0_to_1 = random.random()\n",
    "print(random_number_0_to_1)"
   ]
  },
  {
   "cell_type": "code",
   "execution_count": 6,
   "metadata": {},
   "outputs": [
    {
     "name": "stdout",
     "output_type": "stream",
     "text": [
      "4.068051458048517\n"
     ]
    }
   ],
   "source": [
    "random_float = random.uniform(1, 10)\n",
    "print(random_float)"
   ]
  },
  {
   "cell_type": "code",
   "execution_count": 11,
   "metadata": {},
   "outputs": [
    {
     "name": "stdout",
     "output_type": "stream",
     "text": [
      "Heads\n"
     ]
    }
   ],
   "source": [
    "random_heads_or_tails = random.randint(0, 1)\n",
    "if random_heads_or_tails == 0:\n",
    "    print('Heads')\n",
    "else:\n",
    "    print('Tails')"
   ]
  },
  {
   "cell_type": "code",
   "execution_count": 10,
   "metadata": {},
   "outputs": [
    {
     "name": "stdout",
     "output_type": "stream",
     "text": [
      "['cherry', 'apple', 'pear']\n",
      "pear\n",
      "apple\n",
      "['cherry', 'grape', 'pear']\n",
      "['cherry', 'grape', 'pear', 'orange']\n",
      "['cherry', 'grape', 'pear', 'orange', 'stronberry', 'tomate']\n"
     ]
    }
   ],
   "source": [
    "#list\n",
    "fruits = ['cherry', 'apple', 'pear']\n",
    "print(fruits)\n",
    "print(fruits[2])\n",
    "print(fruits[-2])\n",
    "fruits[1] = 'grape'\n",
    "print(fruits)\n",
    "fruits.append('orange')\n",
    "print(fruits)\n",
    "fruits.extend(['stronberry', 'tomate'])\n",
    "print(fruits)"
   ]
  },
  {
   "cell_type": "code",
   "execution_count": 11,
   "metadata": {},
   "outputs": [
    {
     "name": "stdout",
     "output_type": "stream",
     "text": [
      "David\n",
      "Bob\n"
     ]
    }
   ],
   "source": [
    "frineds = ['Alice', 'Bob', 'Charlie', 'David','Emanuel']\n",
    "bill = random.choice(frineds) #trabalha com listas\n",
    "print(bill)\n",
    "\n",
    "bill = random.randint(0, len(frineds)-1) #trabalha com números\n",
    "print(frineds[bill])\n"
   ]
  },
  {
   "cell_type": "code",
   "execution_count": 12,
   "metadata": {},
   "outputs": [
    {
     "name": "stdout",
     "output_type": "stream",
     "text": [
      "Kale\n"
     ]
    }
   ],
   "source": [
    "fruits = [\"Strawberries\", \"Nectarines\", \"Apples\", \"Grapes\", \"Peaches\", \"Cherries\", \"Pears\"]\n",
    "vegetables = [\"Spinach\", \"Kale\", \"Tomatoes\", \"Celery\", \"Potatoes\"]\n",
    "dirty_dozen = [fruits, vegetables]\n",
    "print(dirty_dozen[1][1])"
   ]
  },
  {
   "cell_type": "code",
   "execution_count": 16,
   "metadata": {},
   "outputs": [
    {
     "name": "stdout",
     "output_type": "stream",
     "text": [
      "Grapes\n",
      "Kale\n"
     ]
    }
   ],
   "source": [
    "print(dirty_dozen[0] [3])\n",
    "print(dirty_dozen[1] [1])"
   ]
  },
  {
   "cell_type": "code",
   "execution_count": 18,
   "metadata": {},
   "outputs": [
    {
     "name": "stdout",
     "output_type": "stream",
     "text": [
      "What do you choose?\n",
      "You lose, because the computer was scissors and you paper\n"
     ]
    }
   ],
   "source": [
    "# Project Day_4\n",
    "print('What do you choose?')\n",
    "choose = ['rock', 'paper', 'scissors']\n",
    "computer = random.choice(choose)\n",
    "user = input('Type Rock, Paper or Scissors: ').lower()\n",
    "if computer == 'rock' and user == 'scissors':\n",
    "    print(f'You lose, because the computer was {computer} and you {user}')\n",
    "elif computer == 'paper' and user == 'rock':\n",
    "    print(f'You lose, because the computer was {computer} and you {user}')\n",
    "elif computer == 'scissors' and user == 'paper':\n",
    "    print(f'You lose, because the computer was {computer} and you {user}')\n",
    "elif computer == 'rock' and user == 'paper':\n",
    "    print(f'You win, because the computer was {computer} and you {user}')\n",
    "elif computer == 'paper' and user == 'scissors':\n",
    "    print(f'You win, because the computer was {computer} and you {user}')\n",
    "elif computer == 'scissors' and user == 'rock':\n",
    "    print(f'You win, because the computer was {computer} and you {user}')\n",
    "else:\n",
    "    print(f'there was a tie, because computer was {computer} and you {user}')\n"
   ]
  },
  {
   "cell_type": "code",
   "execution_count": null,
   "metadata": {},
   "outputs": [],
   "source": [
    "user_choice = inptu('What do you choose? Type 0 for Rock, 1 for Paper, 2 for Scissors.' )\n",
    "computer_choice = random.randint(0, 2)\n",
    "print(f'Computer chose {computer_choice}')\n",
    "if user_choice >= 3 or user_choice < 0:\n",
    "    print('You type an invalid number. You lose!')\n",
    "elif user_choice == 0 and computer_choice == 2:\n",
    "    print('You win')\n",
    "elif computer_choice == 0 and user_choice == 2:\n",
    "    print('You lose!')\n",
    "elif computer_choice > user_choice:\n",
    "    print('You lose!')\n",
    "elif user_choice > computer_choice:\n",
    "    print('You win')\n",
    "elif computer_choice == user_choice:\n",
    "    print(\"It's a draw!\")\n"
   ]
  }
 ],
 "metadata": {
  "kernelspec": {
   "display_name": "Python 3",
   "language": "python",
   "name": "python3"
  },
  "language_info": {
   "codemirror_mode": {
    "name": "ipython",
    "version": 3
   },
   "file_extension": ".py",
   "mimetype": "text/x-python",
   "name": "python",
   "nbconvert_exporter": "python",
   "pygments_lexer": "ipython3",
   "version": "3.12.3"
  }
 },
 "nbformat": 4,
 "nbformat_minor": 2
}
