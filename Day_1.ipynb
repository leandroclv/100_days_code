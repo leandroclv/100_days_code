{
 "cells": [
  {
   "cell_type": "code",
   "execution_count": null,
   "id": "bc8ce57d-7075-45ed-bd9c-c19fad8ef16f",
   "metadata": {},
   "outputs": [],
   "source": [
    "#Day 1"
   ]
  },
  {
   "cell_type": "code",
   "execution_count": 4,
   "id": "4c1e1824-70ea-45dd-b567-051764c7dcd1",
   "metadata": {},
   "outputs": [
    {
     "name": "stdout",
     "output_type": "stream",
     "text": [
      "Hello World!\n",
      "Hello world!\n",
      "Hello World!\n"
     ]
    }
   ],
   "source": [
    "print('Hello World!\\nHello world!\\nHello World!')"
   ]
  },
  {
   "cell_type": "code",
   "execution_count": 7,
   "id": "dabfb721-b7ac-4690-84d0-5c3136af2a46",
   "metadata": {},
   "outputs": [
    {
     "name": "stdout",
     "output_type": "stream",
     "text": [
      "Hello Angela\n"
     ]
    }
   ],
   "source": [
    "print('Hello' + ' ' + 'Angela')"
   ]
  },
  {
   "cell_type": "code",
   "execution_count": 10,
   "id": "00385ff3-1b08-433e-9081-970f231bcee1",
   "metadata": {},
   "outputs": [
    {
     "name": "stdin",
     "output_type": "stream",
     "text": [
      "What is your name?  leandro\n"
     ]
    },
    {
     "name": "stdout",
     "output_type": "stream",
     "text": [
      "Hello Leandro, how are you?\n"
     ]
    }
   ],
   "source": [
    "name = input('What is your name? ').capitalize()\n",
    "print(f'Hello {name}, how are you?')\n",
    "#input() function\n",
    "#input('A prompt for the user')"
   ]
  },
  {
   "cell_type": "code",
   "execution_count": 12,
   "id": "31af69b4-e9bd-4a00-9c93-f719d9d97aff",
   "metadata": {},
   "outputs": [
    {
     "name": "stdin",
     "output_type": "stream",
     "text": [
      "what is your name?  cherry\n"
     ]
    },
    {
     "name": "stdout",
     "output_type": "stream",
     "text": [
      "Hello cherry!\n"
     ]
    }
   ],
   "source": [
    "print('Hello ' + input('what is your name? ') + '!')"
   ]
  },
  {
   "cell_type": "raw",
   "id": "11206307-db27-4aa7-bba4-d15744d8373c",
   "metadata": {},
   "source": [
    "name = input('What is your name?')\n",
    "print(name)"
   ]
  },
  {
   "cell_type": "code",
   "execution_count": 14,
   "id": "5620c7fd-33e6-4b38-8087-20f01e3badeb",
   "metadata": {},
   "outputs": [
    {
     "name": "stdin",
     "output_type": "stream",
     "text": [
      "What is your name?  leandro\n"
     ]
    },
    {
     "name": "stdout",
     "output_type": "stream",
     "text": [
      "12\n"
     ]
    }
   ],
   "source": [
    "print(len('Hello' + input('What is your name? ')))"
   ]
  },
  {
   "cell_type": "code",
   "execution_count": 15,
   "id": "7b6c76f2-a14c-4572-9d14-027a8951e6d3",
   "metadata": {},
   "outputs": [
    {
     "name": "stdout",
     "output_type": "stream",
     "text": [
      "13\n"
     ]
    }
   ],
   "source": [
    "print(len('Hello leandro'))"
   ]
  },
  {
   "cell_type": "code",
   "execution_count": 16,
   "id": "e63becce-4af8-41ef-b5b1-5a609a882b50",
   "metadata": {},
   "outputs": [
    {
     "name": "stdin",
     "output_type": "stream",
     "text": [
      "What is your name Angela\n"
     ]
    },
    {
     "name": "stdout",
     "output_type": "stream",
     "text": [
      "6\n"
     ]
    }
   ],
   "source": [
    "username = input('What is your name')\n",
    "length = len(username)\n",
    "print(length)"
   ]
  },
  {
   "cell_type": "code",
   "execution_count": 18,
   "id": "c382f255-cda0-425b-9a15-3b7eadf194f3",
   "metadata": {},
   "outputs": [
    {
     "name": "stdout",
     "output_type": "stream",
     "text": [
      "Welcome to the Band Generator.\n"
     ]
    },
    {
     "name": "stdin",
     "output_type": "stream",
     "text": [
      "what's the name of the city you grew up in?\n",
      " crato\n",
      "What's your pet's name?\n",
      " totó\n"
     ]
    },
    {
     "name": "stdout",
     "output_type": "stream",
     "text": [
      "Your band name could be crato totó\n"
     ]
    }
   ],
   "source": [
    "print('Welcome to the Band Generator.')\n",
    "city = input(\"what's the name of the city you grew up in?\\n\")\n",
    "pet = input(\"What's your pet's name?\\n\")\n",
    "print('Your band name could be ' + city + ' ' + pet)"
   ]
  }
 ],
 "metadata": {
  "kernelspec": {
   "display_name": "Python 3 (ipykernel)",
   "language": "python",
   "name": "python3"
  },
  "language_info": {
   "codemirror_mode": {
    "name": "ipython",
    "version": 3
   },
   "file_extension": ".py",
   "mimetype": "text/x-python",
   "name": "python",
   "nbconvert_exporter": "python",
   "pygments_lexer": "ipython3",
   "version": "3.12.5"
  }
 },
 "nbformat": 4,
 "nbformat_minor": 5
}
