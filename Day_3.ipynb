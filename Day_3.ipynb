{
 "cells": [
  {
   "cell_type": "code",
   "execution_count": 1,
   "id": "42893aa7-87ca-4aa3-b46f-f4447a839bf4",
   "metadata": {},
   "outputs": [],
   "source": [
    "# Day 3"
   ]
  },
  {
   "cell_type": "code",
   "execution_count": 2,
   "id": "ecc0e669-6c02-4496-b59f-6289e5113c5a",
   "metadata": {},
   "outputs": [
    {
     "name": "stdout",
     "output_type": "stream",
     "text": [
      "Welcome to the rollercoaster!\n"
     ]
    },
    {
     "name": "stdout",
     "output_type": "stream",
     "text": [
      "What is your height in cm?  175\n"
     ]
    },
    {
     "name": "stdout",
     "output_type": "stream",
     "text": [
      "You can ride the rollercoaster\n"
     ]
    }
   ],
   "source": [
    "print('Welcome to the rollercoaster!')\n",
    "height = int(input('What is your height in cm? '))\n",
    "if height >= 120:\n",
    "    print('You can ride the rollercoaster')\n",
    "else:\n",
    "    print(\"Sorry, have to grow taller before you can ride.\")"
   ]
  },
  {
   "cell_type": "code",
   "execution_count": 3,
   "id": "57b60b73-46f7-4cea-9af8-2455db32cb59",
   "metadata": {},
   "outputs": [
    {
     "name": "stdout",
     "output_type": "stream",
     "text": [
      "What is the number you want to check?  87\n"
     ]
    },
    {
     "name": "stdout",
     "output_type": "stream",
     "text": [
      "Odd\n"
     ]
    }
   ],
   "source": [
    "number_to_check = int(input('What is the number you want to check? '))\n",
    "if number_to_check % 2 == 0:\n",
    "    print('Even')\n",
    "else:\n",
    "    print('Odd')"
   ]
  },
  {
   "cell_type": "code",
   "execution_count": 4,
   "id": "da420f7f-9f33-491a-b43d-690f9d6b85af",
   "metadata": {},
   "outputs": [
    {
     "name": "stdout",
     "output_type": "stream",
     "text": [
      "Welcome to the rollercoaster!\n"
     ]
    },
    {
     "name": "stdout",
     "output_type": "stream",
     "text": [
      "What is your height in cm?  187\n"
     ]
    },
    {
     "name": "stdout",
     "output_type": "stream",
     "text": [
      "You can ride the rollercoaster\n"
     ]
    },
    {
     "name": "stdout",
     "output_type": "stream",
     "text": [
      "What is your age?  44\n"
     ]
    },
    {
     "name": "stdout",
     "output_type": "stream",
     "text": [
      "You gonna pay $12.00\n"
     ]
    }
   ],
   "source": [
    "print('Welcome to the rollercoaster!')\n",
    "height = int(input('What is your height in cm? '))\n",
    "if height >= 120:\n",
    "    print('You can ride the rollercoaster')\n",
    "    age = int(input('What is your age? '))\n",
    "    if age < 12:\n",
    "        print('You gonna pay $5.00')\n",
    "    elif age <= 18:\n",
    "        print('You gonna pay $7.oo')\n",
    "    else:\n",
    "        print('You gonna pay $12.00')\n",
    "else:\n",
    "    print(\"Sorry, have to grow taller before you can ride.\")"
   ]
  },
  {
   "cell_type": "code",
   "execution_count": 5,
   "id": "430056a2-2235-4779-9c87-be0cce5d4996",
   "metadata": {},
   "outputs": [
    {
     "name": "stdout",
     "output_type": "stream",
     "text": [
      "Welcome to the rollercoaster!\n"
     ]
    },
    {
     "name": "stdout",
     "output_type": "stream",
     "text": [
      "What is your height in cm?  165\n"
     ]
    },
    {
     "name": "stdout",
     "output_type": "stream",
     "text": [
      "You can ride the rollercoaster\n"
     ]
    },
    {
     "name": "stdout",
     "output_type": "stream",
     "text": [
      "What is your age?  34\n"
     ]
    },
    {
     "name": "stdout",
     "output_type": "stream",
     "text": [
      "You gonna pay $12.00\n"
     ]
    },
    {
     "name": "stdout",
     "output_type": "stream",
     "text": [
      "Do you want to have a photo take? type y for yes and n for no.  y\n"
     ]
    },
    {
     "name": "stdout",
     "output_type": "stream",
     "text": [
      "You gonna pay $3\n",
      "The total of your bill is $15.00\n"
     ]
    }
   ],
   "source": [
    "print('Welcome to the rollercoaster!')\n",
    "height = int(input('What is your height in cm? '))\n",
    "bill = 0\n",
    "if height >= 120:\n",
    "    print('You can ride the rollercoaster')\n",
    "    age = int(input('What is your age? '))\n",
    "    if age < 12:\n",
    "        print('You gonna pay $5.00')\n",
    "        bill += 5\n",
    "    elif age <= 18:\n",
    "        print('You gonna pay $7.oo')\n",
    "        bill += 7\n",
    "    else:\n",
    "        print('You gonna pay $12.00')\n",
    "        bill += 12\n",
    "\n",
    "    photo = input('Do you want to have a photo take? type y for yes and n for no. ').lower()\n",
    "    if photo == 'y':\n",
    "        print('You gonna pay $3')\n",
    "        bill += 3\n",
    "    else:\n",
    "        print('Ok and Thank you')\n",
    "    print(f'The total of your bill is ${bill:.2f}')\n",
    "else:\n",
    "    print(\"Sorry, have to grow taller before you can ride.\")"
   ]
  },
  {
   "cell_type": "code",
   "execution_count": null,
   "id": "7949eaf6-621d-42aa-b209-24f6a7ee5608",
   "metadata": {},
   "outputs": [
    {
     "name": "stdout",
     "output_type": "stream",
     "text": [
      "Welcome to Python Pizza Deliveries!\n",
      "Your final bill is $28\n"
     ]
    }
   ],
   "source": [
    "print('Welcome to Python Pizza Deliveries!')\n",
    "size = input('What size pizza do you want? S, M or L: ').lower()\n",
    "pepperoni = input('Do you want pepperoni on your pizza? Y or N: ').lower()\n",
    "extra_cheese = input('Do you want extra cheese? Y or N: ').lower()\n",
    "bill = 0\n",
    "if size == 's':\n",
    "    bill += 15\n",
    "    if pepperoni == 'y':\n",
    "        bill += 2\n",
    "elif size == 'm':\n",
    "    bill += 20\n",
    "    if pepperoni == 'y':\n",
    "        bill += 3\n",
    "elif size == 'l':\n",
    "    bill += 25\n",
    "    if pepperoni == 'y':\n",
    "        bill += 3\n",
    "else:\n",
    "    print('You typed the wrong inputs.')\n",
    "    \n",
    "if extra_cheese == 'y':\n",
    "    bill += 1\n",
    "\n",
    "print(f'Your final bill is ${bill:.2f}')"
   ]
  },
  {
   "cell_type": "code",
   "execution_count": null,
   "id": "40a7c412",
   "metadata": {},
   "outputs": [],
   "source": []
  }
 ],
 "metadata": {
  "kernelspec": {
   "display_name": "Python 3",
   "language": "python",
   "name": "python3"
  },
  "language_info": {
   "codemirror_mode": {
    "name": "ipython",
    "version": 3
   },
   "file_extension": ".py",
   "mimetype": "text/x-python",
   "name": "python",
   "nbconvert_exporter": "python",
   "pygments_lexer": "ipython3",
   "version": "3.12.3"
  }
 },
 "nbformat": 4,
 "nbformat_minor": 5
}
